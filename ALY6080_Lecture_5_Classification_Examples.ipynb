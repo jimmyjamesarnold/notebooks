{
  "nbformat": 4,
  "nbformat_minor": 0,
  "metadata": {
    "colab": {
      "name": "ALY6080 Lecture 5 - Classification Examples.ipynb",
      "version": "0.3.2",
      "provenance": [],
      "collapsed_sections": [],
      "include_colab_link": true
    },
    "kernelspec": {
      "name": "python3",
      "display_name": "Python 3"
    }
  },
  "cells": [
    {
      "cell_type": "markdown",
      "metadata": {
        "id": "view-in-github",
        "colab_type": "text"
      },
      "source": [
        "<a href=\"https://colab.research.google.com/github/jimmyjamesarnold/notebooks/blob/master/ALY6080_Lecture_5_Classification_Examples.ipynb\" target=\"_parent\"><img src=\"https://colab.research.google.com/assets/colab-badge.svg\" alt=\"Open In Colab\"/></a>"
      ]
    },
    {
      "cell_type": "markdown",
      "metadata": {
        "id": "vy9GD7UJHu3J",
        "colab_type": "text"
      },
      "source": [
        "# Purpose\n",
        "\n",
        "To introduce the practical classification methods in Python using common DS tools\n",
        "\n",
        "Intro to LogReg: https://youtu.be/yIYKR4sgzI8?t=187\n"
      ]
    },
    {
      "cell_type": "markdown",
      "metadata": {
        "id": "YbAAHYywMwSn",
        "colab_type": "text"
      },
      "source": [
        "![Welcome to scikit-learn](https://scikit-learn.org/stable/_static/ml_map.png)"
      ]
    },
    {
      "cell_type": "markdown",
      "metadata": {
        "id": "EB9BUuC3Nxzb",
        "colab_type": "text"
      },
      "source": [
        "https://scikit-learn.org/stable/tutorial/machine_learning_map/index.html"
      ]
    },
    {
      "cell_type": "markdown",
      "metadata": {
        "id": "Bx88rvceILkg",
        "colab_type": "text"
      },
      "source": [
        "## Load libraries and dataset"
      ]
    },
    {
      "cell_type": "code",
      "metadata": {
        "id": "SHxHANhGG31P",
        "colab_type": "code",
        "colab": {}
      },
      "source": [
        "\n"
      ],
      "execution_count": 0,
      "outputs": []
    },
    {
      "cell_type": "markdown",
      "metadata": {
        "id": "RcG9ywIxLxTA",
        "colab_type": "text"
      },
      "source": [
        "Here I'm going to show Logistic Regression. \n",
        "\n",
        "Others to consider... Support Vector Machines, KNN, Naive Bayes and Random Forest Classifiers.\n",
        "See: https://scikit-learn.org/stable/supervised_learning.html#supervised-learning\n",
        "\n"
      ]
    },
    {
      "cell_type": "code",
      "metadata": {
        "id": "U9mpR7zWJbnA",
        "colab_type": "code",
        "colab": {}
      },
      "source": [
        "# first load sklearn dataset, test_train_split, classifiers, and metrics\n",
        "# we'll be using the iris dataset - a lot of examples here: https://scikit-learn.org/stable/modules/generated/sklearn.datasets.load_iris.html#sklearn.datasets.load_iris\n",
        "\n",
        "from sklearn.datasets import load_iris\n",
        "\n",
        "# import some data to play with:\n",
        "# review docs, X = features, y = labels\n",
        "iris = load_iris()\n",
        "\n",
        "# get full description\n",
        "print(iris.DESCR)"
      ],
      "execution_count": 0,
      "outputs": []
    },
    {
      "cell_type": "code",
      "metadata": {
        "id": "KT4dnm2lPDrK",
        "colab_type": "code",
        "colab": {}
      },
      "source": [
        "# split the data into features (X) and labels (y)\n",
        "X = iris.data\n",
        "y = iris.target\n",
        "\n",
        "# easier access:\n",
        "#X, y = load_iris(return_X_y=True)\n",
        "\n",
        "# Then, split into training and testing data:\n",
        "from sklearn.model_selection import train_test_split\n",
        "\n",
        "# Split the data into a training set and a test set (70/30)\n",
        "X_train, X_test, y_train, y_test = train_test_split(X, y, test_size=0.3, random_state=42)"
      ],
      "execution_count": 0,
      "outputs": []
    },
    {
      "cell_type": "code",
      "metadata": {
        "id": "JFtdhCAkK3Ua",
        "colab_type": "code",
        "colab": {
          "base_uri": "https://localhost:8080/",
          "height": 193
        },
        "outputId": "c66c2808-c78b-4bdd-880f-5564d6990c63"
      },
      "source": [
        "# what does this data look like? \n",
        "\n",
        "# take first 10 entries:\n",
        "X_train[:10,]"
      ],
      "execution_count": 19,
      "outputs": [
        {
          "output_type": "execute_result",
          "data": {
            "text/plain": [
              "array([[5.5, 2.4, 3.7, 1. ],\n",
              "       [6.3, 2.8, 5.1, 1.5],\n",
              "       [6.4, 3.1, 5.5, 1.8],\n",
              "       [6.6, 3. , 4.4, 1.4],\n",
              "       [7.2, 3.6, 6.1, 2.5],\n",
              "       [5.7, 2.9, 4.2, 1.3],\n",
              "       [7.6, 3. , 6.6, 2.1],\n",
              "       [5.6, 3. , 4.5, 1.5],\n",
              "       [5.1, 3.5, 1.4, 0.2],\n",
              "       [7.7, 2.8, 6.7, 2. ]])"
            ]
          },
          "metadata": {
            "tags": []
          },
          "execution_count": 19
        }
      ]
    },
    {
      "cell_type": "code",
      "metadata": {
        "id": "obERpsVHJgnq",
        "colab_type": "code",
        "colab": {
          "base_uri": "https://localhost:8080/",
          "height": 87
        },
        "outputId": "6032a90c-4a0f-4a22-8115-d11c05f994d3"
      },
      "source": [
        "# from the docs, we know these are features of: \n",
        "iris.feature_names"
      ],
      "execution_count": 20,
      "outputs": [
        {
          "output_type": "execute_result",
          "data": {
            "text/plain": [
              "['sepal length (cm)',\n",
              " 'sepal width (cm)',\n",
              " 'petal length (cm)',\n",
              " 'petal width (cm)']"
            ]
          },
          "metadata": {
            "tags": []
          },
          "execution_count": 20
        }
      ]
    },
    {
      "cell_type": "code",
      "metadata": {
        "id": "BYcpYBdPNr0a",
        "colab_type": "code",
        "colab": {
          "base_uri": "https://localhost:8080/",
          "height": 34
        },
        "outputId": "20dc9cc0-4b58-4192-a880-5a9b1919e32c"
      },
      "source": [
        "# similiarly, the classes and class labels are:\n",
        "y_train[:10,]"
      ],
      "execution_count": 23,
      "outputs": [
        {
          "output_type": "execute_result",
          "data": {
            "text/plain": [
              "array([1, 2, 2, 1, 2, 1, 2, 1, 0, 2])"
            ]
          },
          "metadata": {
            "tags": []
          },
          "execution_count": 23
        }
      ]
    },
    {
      "cell_type": "code",
      "metadata": {
        "id": "G5u_ZRTQPgU0",
        "colab_type": "code",
        "colab": {
          "base_uri": "https://localhost:8080/",
          "height": 34
        },
        "outputId": "c4cf423f-cc7b-4e9a-f412-36328c618ccd"
      },
      "source": [
        "#which relate to labels:\n",
        "iris.target_names"
      ],
      "execution_count": 24,
      "outputs": [
        {
          "output_type": "execute_result",
          "data": {
            "text/plain": [
              "array(['setosa', 'versicolor', 'virginica'], dtype='<U10')"
            ]
          },
          "metadata": {
            "tags": []
          },
          "execution_count": 24
        }
      ]
    },
    {
      "cell_type": "code",
      "metadata": {
        "id": "OPeWP_7vPnId",
        "colab_type": "code",
        "colab": {}
      },
      "source": [
        "# OK, skipping any EDA, feature engineering / selection, and preprocessing - but these are SUPER IMPORTANT!!!\n",
        "\n",
        "# right to the model\n",
        "# docs: https://scikit-learn.org/stable/modules/generated/sklearn.linear_model.LogisticRegression.html\n",
        "\n",
        "# import model\n",
        "from sklearn.linear_model import LogisticRegression\n",
        "\n",
        "# instantiate\n",
        "logreg = LogisticRegression(solver='lbfgs', multi_class='multinomial')\n",
        "\n",
        "# fit training data\n",
        "logreg.fit(X_train, y_train)\n",
        "\n",
        "# make a prediction with test set\n",
        "y_pred = logreg.predict(X_test)\n",
        "\n",
        "# options: hyperparameter tuning, and cross-validation"
      ],
      "execution_count": 0,
      "outputs": []
    },
    {
      "cell_type": "markdown",
      "metadata": {
        "id": "uIAbHiQqRx0e",
        "colab_type": "text"
      },
      "source": [
        "Now we need to a way to evaluate how well the model works. \n",
        "We'll use the classification report and the confusion matrix.\n",
        "\n",
        "Because there are 3 classes, we'll need to use the multiclass unique_labels, too.\n",
        "\n",
        "I also need np and plt for calculations and plotting... load those too"
      ]
    },
    {
      "cell_type": "code",
      "metadata": {
        "id": "CT22ybLMSFnW",
        "colab_type": "code",
        "colab": {}
      },
      "source": [
        "from sklearn.metrics import classification_report, confusion_matrix\n",
        "from sklearn.utils.multiclass import unique_labels\n",
        "import numpy as np\n",
        "import matplotlib.pyplot as plt"
      ],
      "execution_count": 0,
      "outputs": []
    },
    {
      "cell_type": "code",
      "metadata": {
        "id": "CIWJ8vfmQV2T",
        "colab_type": "code",
        "colab": {}
      },
      "source": [
        "# got code from: https://scikit-learn.org/stable/auto_examples/model_selection/plot_confusion_matrix.html#sphx-glr-auto-examples-model-selection-plot-confusion-matrix-py\n",
        "\n",
        "def plot_confusion_matrix(y_true, y_pred, classes,\n",
        "                          normalize=False,\n",
        "                          title=None,\n",
        "                          cmap=plt.cm.Blues):\n",
        "    \"\"\"\n",
        "    This function prints and plots the confusion matrix.\n",
        "    Normalization can be applied by setting `normalize=True`.\n",
        "    \"\"\"\n",
        "    if not title:\n",
        "        if normalize:\n",
        "            title = 'Normalized confusion matrix'\n",
        "        else:\n",
        "            title = 'Confusion matrix, without normalization'\n",
        "\n",
        "    # Compute confusion matrix\n",
        "    cm = confusion_matrix(y_true, y_pred)\n",
        "    # Only use the labels that appear in the data\n",
        "    classes = classes[unique_labels(y_true, y_pred)]\n",
        "    if normalize:\n",
        "        cm = cm.astype('float') / cm.sum(axis=1)[:, np.newaxis]\n",
        "        print(\"Normalized confusion matrix\")\n",
        "    else:\n",
        "        print('Confusion matrix, without normalization')\n",
        "\n",
        "    print(cm)\n",
        "\n",
        "    fig, ax = plt.subplots()\n",
        "    im = ax.imshow(cm, interpolation='nearest', cmap=cmap)\n",
        "    ax.figure.colorbar(im, ax=ax)\n",
        "    # We want to show all ticks...\n",
        "    ax.set(xticks=np.arange(cm.shape[1]),\n",
        "           yticks=np.arange(cm.shape[0]),\n",
        "           # ... and label them with the respective list entries\n",
        "           xticklabels=classes, yticklabels=classes,\n",
        "           title=title,\n",
        "           ylabel='True label',\n",
        "           xlabel='Predicted label')\n",
        "\n",
        "    # Rotate the tick labels and set their alignment.\n",
        "    plt.setp(ax.get_xticklabels(), rotation=45, ha=\"right\",\n",
        "             rotation_mode=\"anchor\")\n",
        "\n",
        "    # Loop over data dimensions and create text annotations.\n",
        "    fmt = '.2f' if normalize else 'd'\n",
        "    thresh = cm.max() / 2.\n",
        "    for i in range(cm.shape[0]):\n",
        "        for j in range(cm.shape[1]):\n",
        "            ax.text(j, i, format(cm[i, j], fmt),\n",
        "                    ha=\"center\", va=\"center\",\n",
        "                    color=\"white\" if cm[i, j] > thresh else \"black\")\n",
        "    fig.tight_layout()\n",
        "    return ax"
      ],
      "execution_count": 0,
      "outputs": []
    },
    {
      "cell_type": "code",
      "metadata": {
        "id": "Xc0P9hubRQBn",
        "colab_type": "code",
        "colab": {
          "base_uri": "https://localhost:8080/",
          "height": 385
        },
        "outputId": "0d41c46a-a3b2-4f6d-bd36-86c561d9399d"
      },
      "source": [
        "# provide class names which we saw earlier\n",
        "\n",
        "# Plot non-normalized confusion matrix\n",
        "plot_confusion_matrix(y_test, y_pred, classes=iris.target_names,\n",
        "                      title='Confusion matrix, without normalization')"
      ],
      "execution_count": 49,
      "outputs": [
        {
          "output_type": "stream",
          "text": [
            "Confusion matrix, without normalization\n",
            "[[19  0  0]\n",
            " [ 0 13  0]\n",
            " [ 0  0 13]]\n"
          ],
          "name": "stdout"
        },
        {
          "output_type": "execute_result",
          "data": {
            "text/plain": [
              "<matplotlib.axes._subplots.AxesSubplot at 0x7f33768bd780>"
            ]
          },
          "metadata": {
            "tags": []
          },
          "execution_count": 49
        },
        {
          "output_type": "display_data",
          "data": {
            "image/png": "[encoded data removed]",
            "text/plain": [
              "<Figure size 432x288 with 2 Axes>"
            ]
          },
          "metadata": {
            "tags": []
          }
        }
      ]
    },
    {
      "cell_type": "code",
      "metadata": {
        "id": "6uSnQgBuTBe_",
        "colab_type": "code",
        "colab": {
          "base_uri": "https://localhost:8080/",
          "height": 385
        },
        "outputId": "a2e5e584-7ca3-4390-8e25-56d4dfe42582"
      },
      "source": [
        "# Plot normalized confusion matrix\n",
        "plot_confusion_matrix(y_test, y_pred, classes=iris.target_names, normalize=True,\n",
        "                      title='Normalized confusion matrix')"
      ],
      "execution_count": 50,
      "outputs": [
        {
          "output_type": "stream",
          "text": [
            "Normalized confusion matrix\n",
            "[[1. 0. 0.]\n",
            " [0. 1. 0.]\n",
            " [0. 0. 1.]]\n"
          ],
          "name": "stdout"
        },
        {
          "output_type": "execute_result",
          "data": {
            "text/plain": [
              "<matplotlib.axes._subplots.AxesSubplot at 0x7f33768191d0>"
            ]
          },
          "metadata": {
            "tags": []
          },
          "execution_count": 50
        },
        {
          "output_type": "display_data",
          "data": {
            "image/png": "[encoded data removed]",
            "text/plain": [
              "<Figure size 432x288 with 2 Axes>"
            ]
          },
          "metadata": {
            "tags": []
          }
        }
      ]
    },
    {
      "cell_type": "markdown",
      "metadata": {
        "id": "D2AIqvLFaChi",
        "colab_type": "text"
      },
      "source": [
        "![important metrics](https://cdn-images-1.medium.com/max/1250/1*pOtBHai4jFd-ujaNXPilRg.png)"
      ]
    },
    {
      "cell_type": "code",
      "metadata": {
        "id": "ucw3zwDwRD7S",
        "colab_type": "code",
        "colab": {
          "base_uri": "https://localhost:8080/",
          "height": 193
        },
        "outputId": "e98cf4fd-fdc3-4d82-e15a-2cad0d1e7b4f"
      },
      "source": [
        "# Let's get the classification report...\n",
        "print(classification_report(y_test, y_pred, target_names=iris.target_names))"
      ],
      "execution_count": 52,
      "outputs": [
        {
          "output_type": "stream",
          "text": [
            "              precision    recall  f1-score   support\n",
            "\n",
            "      setosa       1.00      1.00      1.00        19\n",
            "  versicolor       1.00      1.00      1.00        13\n",
            "   virginica       1.00      1.00      1.00        13\n",
            "\n",
            "   micro avg       1.00      1.00      1.00        45\n",
            "   macro avg       1.00      1.00      1.00        45\n",
            "weighted avg       1.00      1.00      1.00        45\n",
            "\n"
          ],
          "name": "stdout"
        }
      ]
    },
    {
      "cell_type": "code",
      "metadata": {
        "id": "S21_tUcHVoqE",
        "colab_type": "code",
        "colab": {
          "base_uri": "https://localhost:8080/",
          "height": 70
        },
        "outputId": "0a3273fc-06ef-420a-b313-b54462d9e117"
      },
      "source": [
        "# ok, this example is a little ridiculous, you never get perfect results in reality...\n",
        "# let's try doing some feature reduction... \n",
        "# see docs: https://scikit-learn.org/stable/modules/generated/sklearn.feature_selection.RFE.html\n",
        "\n",
        "from sklearn.feature_selection import RFE\n",
        "\n",
        "# we'll get top feature recursively:\n",
        "rfe = RFE(estimator=logreg, n_features_to_select=1, step=1)\n",
        "rfe.fit(X_train, y_train)\n",
        "\n",
        "# inspect important features\n",
        "print(iris.feature_names)\n",
        "print(rfe.support_)\n",
        "print(rfe.ranking_)"
      ],
      "execution_count": 56,
      "outputs": [
        {
          "output_type": "stream",
          "text": [
            "['sepal length (cm)', 'sepal width (cm)', 'petal length (cm)', 'petal width (cm)']\n",
            "[False False  True False]\n",
            "[4 3 1 2]\n"
          ],
          "name": "stdout"
        }
      ]
    },
    {
      "cell_type": "markdown",
      "metadata": {
        "id": "Yerpix3ZXdHT",
        "colab_type": "text"
      },
      "source": [
        "Based on this, it looks like 'petal length (cm)' and  'petal width (cm)' are the most important features. \n",
        "\n",
        "Let's see what it looks like if we only use those to predict."
      ]
    },
    {
      "cell_type": "code",
      "metadata": {
        "id": "LjeHfqHBXYWD",
        "colab_type": "code",
        "colab": {}
      },
      "source": [
        "y_rfe_pred = rfe.predict(X_test)"
      ],
      "execution_count": 0,
      "outputs": []
    },
    {
      "cell_type": "code",
      "metadata": {
        "id": "7DyxznyzXtCu",
        "colab_type": "code",
        "colab": {
          "base_uri": "https://localhost:8080/",
          "height": 193
        },
        "outputId": "16a2a0f6-e208-4d91-ee9b-a145ff5baf46"
      },
      "source": [
        "# Let's get the classification report...\n",
        "print(classification_report(y_test, y_rfe_pred, target_names=iris.target_names))"
      ],
      "execution_count": 58,
      "outputs": [
        {
          "output_type": "stream",
          "text": [
            "              precision    recall  f1-score   support\n",
            "\n",
            "      setosa       1.00      1.00      1.00        19\n",
            "  versicolor       1.00      1.00      1.00        13\n",
            "   virginica       1.00      1.00      1.00        13\n",
            "\n",
            "   micro avg       1.00      1.00      1.00        45\n",
            "   macro avg       1.00      1.00      1.00        45\n",
            "weighted avg       1.00      1.00      1.00        45\n",
            "\n"
          ],
          "name": "stdout"
        }
      ]
    },
    {
      "cell_type": "code",
      "metadata": {
        "id": "XHEjTQHPXv92",
        "colab_type": "code",
        "colab": {
          "base_uri": "https://localhost:8080/",
          "height": 286
        },
        "outputId": "b9e63b97-b2da-4890-c65a-76c9f3088246"
      },
      "source": [
        "# I find that super suspicious... using only 1 feature we can get perfect classification...? \n",
        "# inspect visually:\n",
        "import seaborn as sns\n",
        "\n",
        "# python uses 0-indexing. So 3rd feature has index of 2!\n",
        "\n",
        "# make boxplot to visual distribution\n",
        "sns.boxplot(x=y_test, y=X_test[:,2])"
      ],
      "execution_count": 71,
      "outputs": [
        {
          "output_type": "execute_result",
          "data": {
            "text/plain": [
              "<matplotlib.axes._subplots.AxesSubplot at 0x7f337681fd30>"
            ]
          },
          "metadata": {
            "tags": []
          },
          "execution_count": 71
        },
        {
          "output_type": "display_data",
          "data": {
            "image/png": "[encoded data removed]",
            "text/plain": [
              "<Figure size 432x288 with 1 Axes>"
            ]
          },
          "metadata": {
            "tags": []
          }
        }
      ]
    },
    {
      "cell_type": "markdown",
      "metadata": {
        "id": "A5MtnST4Zize",
        "colab_type": "text"
      },
      "source": [
        "OK, given what's you've seen, what can you find with "
      ]
    },
    {
      "cell_type": "code",
      "metadata": {
        "id": "zduzaUF_Y02Z",
        "colab_type": "code",
        "colab": {}
      },
      "source": [
        ""
      ],
      "execution_count": 0,
      "outputs": []
    }
  ]
}